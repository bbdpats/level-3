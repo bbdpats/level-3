{
 "cells": [
  {
   "cell_type": "code",
   "execution_count": 9,
   "metadata": {},
   "outputs": [
    {
     "name": "stdout",
     "output_type": "stream",
     "text": [
      "5\n",
      "5\n"
     ]
    }
   ],
   "source": [
    "k=0\n",
    "s=0\n",
    "y=0\n",
    "for y in range (0,10):\n",
    "    if y%2==0:\n",
    "        s=s+1\n",
    "    else:\n",
    "        k=k+1\n",
    "print(k)\n",
    "print(s)"
   ]
  },
  {
   "cell_type": "code",
   "execution_count": null,
   "metadata": {},
   "outputs": [],
   "source": [
    "hi=[47,16,27,45,13]"
   ]
  },
  {
   "cell_type": "code",
   "execution_count": null,
   "metadata": {},
   "outputs": [],
   "source": [
    "def min-3(hi,h,i,s)\n",
    "    for z in range (0,4):\n",
    "        if z%2==1:\n",
    "            h=h+1\n",
    "        else: \n",
    "            i=i+1\n",
    "        f=f+1"
   ]
  },
  {
   "cell_type": "code",
   "execution_count": 17,
   "metadata": {},
   "outputs": [
    {
     "name": "stdout",
     "output_type": "stream",
     "text": [
      "2\n",
      "3\n"
     ]
    }
   ],
   "source": [
    "r=0\n",
    "l=0\n",
    "f=0\n",
    "while(f<5):\n",
    "    if f%2==1:\n",
    "        r=r+1\n",
    "    else: \n",
    "        l=l+1\n",
    "    f=f+1\n",
    "print(r)\n",
    "print(l)    "
   ]
  },
  {
   "cell_type": "code",
   "execution_count": 22,
   "metadata": {},
   "outputs": [
    {
     "data": {
      "text/plain": [
       "4"
      ]
     },
     "execution_count": 22,
     "metadata": {},
     "output_type": "execute_result"
    }
   ],
   "source": [
    "2,35,1,98,0,101"
   ]
  },
  {
   "cell_type": "code",
   "execution_count": null,
   "metadata": {},
   "outputs": [],
   "source": [
    "0,198,5,23,45,11,9,20"
   ]
  },
  {
   "cell_type": "code",
   "execution_count": 69,
   "metadata": {},
   "outputs": [
    {
     "name": "stdout",
     "output_type": "stream",
     "text": [
      "9\n"
     ]
    }
   ],
   "source": [
    "bye=[0,198,5,23,45,11,9,20]\n",
    "c=bye[0]\n",
    "for d in range(0,7):\n",
    "    if c>bye[d]:\n",
    "        c=bye[d]\n",
    "print(bye[d])"
   ]
  },
  {
   "cell_type": "code",
   "execution_count": 1,
   "metadata": {},
   "outputs": [],
   "source": [
    "good =[47,16,27,45,13]"
   ]
  },
  {
   "cell_type": "code",
   "execution_count": 2,
   "metadata": {},
   "outputs": [],
   "source": [
    "z=good[0]"
   ]
  },
  {
   "cell_type": "code",
   "execution_count": 35,
   "metadata": {},
   "outputs": [
    {
     "name": "stdout",
     "output_type": "stream",
     "text": [
      "<function min3 at 0x7efc141efc20>\n"
     ]
    }
   ],
   "source": [
    "def min3 (good,z):\n",
    "    for v in range (0,4):\n",
    "        if z>good[v]:\n",
    "            z=good[v]\n",
    "    return(v)\n",
    "n=min3\n",
    "print(n)"
   ]
  },
  {
   "cell_type": "code",
   "execution_count": 34,
   "metadata": {},
   "outputs": [
    {
     "data": {
      "text/plain": [
       "<function __main__.min3(good, z)>"
      ]
     },
     "execution_count": 34,
     "metadata": {},
     "output_type": "execute_result"
    }
   ],
   "source": []
  },
  {
   "cell_type": "code",
   "execution_count": 68,
   "metadata": {},
   "outputs": [
    {
     "name": "stdout",
     "output_type": "stream",
     "text": [
      "0\n"
     ]
    }
   ],
   "source": [
    "hi=[2,35,1,98,0,101]\n",
    "l=num[0]\n",
    "for b in range(0,5):\n",
    "    if l>hi[b]:\n",
    "        l=hi[b]\n",
    "print(hi[b])"
   ]
  },
  {
   "cell_type": "code",
   "execution_count": 66,
   "metadata": {},
   "outputs": [
    {
     "name": "stdout",
     "output_type": "stream",
     "text": [
      "2\n"
     ]
    }
   ],
   "source": [
    "num=[10,8,17,15,2,495]\n",
    "x=num[0]\n",
    "for a in range (0,5):\n",
    "    if x>num[a]:\n",
    "        x=num[a]  \n",
    "print(num[a])"
   ]
  }
 ],
 "metadata": {
  "kernelspec": {
   "display_name": "Python 3",
   "language": "python",
   "name": "python3"
  },
  "language_info": {
   "codemirror_mode": {
    "name": "ipython",
    "version": 3
   },
   "file_extension": ".py",
   "mimetype": "text/x-python",
   "name": "python",
   "nbconvert_exporter": "python",
   "pygments_lexer": "ipython3",
   "version": "3.7.4"
  }
 },
 "nbformat": 4,
 "nbformat_minor": 2
}
