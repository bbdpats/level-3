{
 "cells": [
  {
   "cell_type": "code",
   "execution_count": null,
   "metadata": {},
   "outputs": [],
   "source": [
    "k=0\n",
    "s=0\n",
    "y=0\n",
    "for y in range (0,10):\n",
    "    if y%2==0:\n",
    "        s=s+1\n",
    "    else:\n",
    "        k=k+1\n",
    "print(k)\n",
    "print(s)"
   ]
  },
  {
   "cell_type": "code",
   "execution_count": null,
   "metadata": {},
   "outputs": [],
   "source": [
    "hi=[47,16,27,45,13]"
   ]
  },
  {
   "cell_type": "code",
   "execution_count": null,
   "metadata": {},
   "outputs": [],
   "source": [
    "def min-3(hi,h,i,s)\n",
    "    for z in range (0,4):\n",
    "        if z%2==1:\n",
    "            h=h+1\n",
    "        else: \n",
    "            i=i+1\n",
    "        f=f+1"
   ]
  },
  {
   "cell_type": "code",
   "execution_count": 1,
   "metadata": {},
   "outputs": [
    {
     "name": "stdout",
     "output_type": "stream",
     "text": [
      "2\n",
      "3\n"
     ]
    }
   ],
   "source": [
    "r=0\n",
    "l=0\n",
    "f=0\n",
    "while(f<5):\n",
    "    if f%2==1:\n",
    "        r=r+1\n",
    "    else: \n",
    "        l=l+1\n",
    "    f=f+1\n",
    "print(r)\n",
    "print(l)    "
   ]
  },
  {
   "cell_type": "code",
   "execution_count": 22,
   "metadata": {},
   "outputs": [
    {
     "data": {
      "text/plain": [
       "4"
      ]
     },
     "execution_count": 22,
     "metadata": {},
     "output_type": "execute_result"
    }
   ],
   "source": [
    "2,35,1,98,0,101"
   ]
  },
  {
   "cell_type": "code",
   "execution_count": null,
   "metadata": {},
   "outputs": [],
   "source": [
    "0,198,5,23,45,11,9,20"
   ]
  },
  {
   "cell_type": "code",
   "execution_count": 69,
   "metadata": {},
   "outputs": [
    {
     "name": "stdout",
     "output_type": "stream",
     "text": [
      "9\n"
     ]
    }
   ],
   "source": [
    "bye=[0,198,5,23,45,11,9,20]\n",
    "c=bye[0]\n",
    "for d in range(0,7):\n",
    "    if c>bye[d]:\n",
    "        c=bye[d]\n",
    "print(bye[d])"
   ]
  },
  {
   "cell_type": "code",
   "execution_count": 43,
   "metadata": {},
   "outputs": [],
   "source": [
    "okay =[22,40,8,6,2,94,82,51,75,93]"
   ]
  },
  {
   "cell_type": "code",
   "execution_count": null,
   "metadata": {},
   "outputs": [],
   "source": [
    "y=okay[0]"
   ]
  },
  {
   "cell_type": "code",
   "execution_count": null,
   "metadata": {},
   "outputs": [],
   "source": [
    "def min1 (okay):\n",
    "        y=okay[0]\n",
    "        for s in range (len(okay)):\n",
    "            if s<okay[s]"
   ]
  },
  {
   "cell_type": "code",
   "execution_count": 2,
   "metadata": {},
   "outputs": [],
   "source": [
    "good =[47,16,27,45,13]"
   ]
  },
  {
   "cell_type": "code",
   "execution_count": 3,
   "metadata": {},
   "outputs": [],
   "source": [
    "z=good[0]"
   ]
  },
  {
   "cell_type": "code",
   "execution_count": 41,
   "metadata": {},
   "outputs": [
    {
     "data": {
      "text/plain": [
       "13"
      ]
     },
     "execution_count": 41,
     "metadata": {},
     "output_type": "execute_result"
    }
   ],
   "source": [
    "n"
   ]
  },
  {
   "cell_type": "code",
   "execution_count": 48,
   "metadata": {},
   "outputs": [
    {
     "name": "stdout",
     "output_type": "stream",
     "text": [
      "13\n",
      "2\n"
     ]
    }
   ],
   "source": [
    "def min3 (good):\n",
    "    z=good[0]\n",
    "    for v in range (len(good)):\n",
    "        if z>good[v]:\n",
    "            z=good[v]\n",
    "    return(z)\n",
    "n=min3(good)\n",
    "print(n)\n",
    "n=min3(okay)\n",
    "print(n)"
   ]
  },
  {
   "cell_type": "code",
   "execution_count": 47,
   "metadata": {},
   "outputs": [
    {
     "name": "stdout",
     "output_type": "stream",
     "text": [
      "47\n",
      "94\n"
     ]
    }
   ],
   "source": [
    "def min3 (good):\n",
    "    z=good[0]\n",
    "    for v in range (len(good)):\n",
    "        if z<good[v]:\n",
    "            z=good[v]\n",
    "    return(z)\n",
    "l=min3(good)\n",
    "print(l)\n",
    "l=min3(okay)\n",
    "print(l)"
   ]
  },
  {
   "cell_type": "code",
   "execution_count": 3,
   "metadata": {},
   "outputs": [
    {
     "name": "stdout",
     "output_type": "stream",
     "text": [
      "13\n"
     ]
    }
   ],
   "source": [
    "good =[47,16,27,45,13]\n",
    "z=good[0]\n",
    "h=0\n",
    "while (h<4):\n",
    "    if z>good[h]:\n",
    "        z=good[h]\n",
    "    h=h+1\n",
    "print(good[h])"
   ]
  },
  {
   "cell_type": "code",
   "execution_count": 10,
   "metadata": {},
   "outputs": [],
   "source": [
    "okay=[47,16,27,45,13]"
   ]
  },
  {
   "cell_type": "code",
   "execution_count": null,
   "metadata": {},
   "outputs": [],
   "source": [
    "def max2(okay):\n",
    "    z=okay[0]\n",
    "    y=okay[1]\n",
    "    if y>z:\n",
    "        a=y\n",
    "        y=z\n",
    "        z=a\n",
    "        for i in range (2,len(okay)):\n",
    "            if z < okay[i]:\n",
    "                y=z\n",
    "                z = okay[i]"
   ]
  },
  {
   "cell_type": "code",
   "execution_count": 1,
   "metadata": {},
   "outputs": [],
   "source": [
    "welcome=[12,23,34,45,56,67,78,89,90]"
   ]
  },
  {
   "cell_type": "code",
   "execution_count": 2,
   "metadata": {},
   "outputs": [
    {
     "name": "stdout",
     "output_type": "stream",
     "text": [
      "89\n"
     ]
    }
   ],
   "source": [
    "def max2(welcome):\n",
    "    z=welcome[0]\n",
    "    y=welcome[1]\n",
    "    if y>z:\n",
    "        a=y\n",
    "        y=z\n",
    "        z=a\n",
    "    for i in range (2,len(welcome)):\n",
    "        if z < welcome[i]:\n",
    "                y=z\n",
    "                z = welcome[i]\n",
    "        else:\n",
    "            if y<welcome[i]:\n",
    "                y=welcome[i]\n",
    "    return(y)\n",
    "le=max2(welcome)\n",
    "print(le)"
   ]
  },
  {
   "cell_type": "code",
   "execution_count": null,
   "metadata": {},
   "outputs": [],
   "source": [
    "welcome=[12,23,34,45,56,67,78,89,90]"
   ]
  },
  {
   "cell_type": "code",
   "execution_count": 10,
   "metadata": {},
   "outputs": [
    {
     "name": "stdout",
     "output_type": "stream",
     "text": [
      "23\n"
     ]
    }
   ],
   "source": [
    "def min5(welcome):    \n",
    "    x=welcome[0]\n",
    "    w=welcome[1]\n",
    "    if x<w:\n",
    "        b=w\n",
    "        y=x\n",
    "        w=b\n",
    "    for e in range (2,len(welcome)):\n",
    "        if x > welcome[e]:\n",
    "                w=x\n",
    "                x = welcome[e]\n",
    "        else:\n",
    "            if w>welcome[e]:\n",
    "                w=welcome[e]\n",
    "    return(w)\n",
    "le=min5(welcome)\n",
    "print(le)"
   ]
  },
  {
   "cell_type": "code",
   "execution_count": 8,
   "metadata": {},
   "outputs": [
    {
     "name": "stdout",
     "output_type": "stream",
     "text": [
      "12\n",
      "23\n",
      "12\n"
     ]
    }
   ],
   "source": []
  },
  {
   "cell_type": "code",
   "execution_count": null,
   "metadata": {},
   "outputs": [],
   "source": [
    "hi=[2,35,1,98,0,101]\n",
    "l=num[0]\n",
    "for b in range(0,5):\n",
    "    if l>hi[b]:\n",
    "        l=hi[b]\n",
    "print(hi[b])"
   ]
  },
  {
   "cell_type": "code",
   "execution_count": 66,
   "metadata": {},
   "outputs": [
    {
     "name": "stdout",
     "output_type": "stream",
     "text": [
      "2\n"
     ]
    }
   ],
   "source": [
    "num=[10,8,17,15,2,495]\n",
    "x=num[0]\n",
    "for a in range (0,5):\n",
    "    if x>num[a]:\n",
    "        x=num[a]  \n",
    "print(num[a])"
   ]
  }
 ],
 "metadata": {
  "kernelspec": {
   "display_name": "Python 3",
   "language": "python",
   "name": "python3"
  },
  "language_info": {
   "codemirror_mode": {
    "name": "ipython",
    "version": 3
   },
   "file_extension": ".py",
   "mimetype": "text/x-python",
   "name": "python",
   "nbconvert_exporter": "python",
   "pygments_lexer": "ipython3",
   "version": "3.7.4"
  }
 },
 "nbformat": 4,
 "nbformat_minor": 2
}
