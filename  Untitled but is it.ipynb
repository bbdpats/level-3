{
 "cells": [
  {
   "cell_type": "code",
   "execution_count": 2,
   "metadata": {},
   "outputs": [],
   "source": [
    "qwerty=[21,2,3,799,66,5,10,4400]"
   ]
  },
  {
   "cell_type": "code",
   "execution_count": 20,
   "metadata": {},
   "outputs": [
    {
     "name": "stdout",
     "output_type": "stream",
     "text": [
      "[2, 3, 5, 10, 21, 66, 799, 4400]\n"
     ]
    }
   ],
   "source": [
    "def oddball(qwerty):\n",
    "    for l in range (2,len(qwerty)):\n",
    "        for i in range (len(qwerty)):\n",
    "            s=i\n",
    "            if qwerty[s]>qwerty[l]:\n",
    "                a=qwerty[l]\n",
    "                qwerty[l]=qwerty[s]\n",
    "                qwerty[s]=a\n",
    "    return(qwerty)\n",
    "ytrewq=oddball(qwerty)\n",
    "print(ytrewq)"
   ]
  }
 ],
 "metadata": {
  "kernelspec": {
   "display_name": "Python 3",
   "language": "python",
   "name": "python3"
  },
  "language_info": {
   "codemirror_mode": {
    "name": "ipython",
    "version": 3
   },
   "file_extension": ".py",
   "mimetype": "text/x-python",
   "name": "python",
   "nbconvert_exporter": "python",
   "pygments_lexer": "ipython3",
   "version": "3.7.4"
  }
 },
 "nbformat": 4,
 "nbformat_minor": 2
}
